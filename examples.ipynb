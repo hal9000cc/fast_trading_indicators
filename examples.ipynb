{
 "cells": [
  {
   "cell_type": "code",
   "execution_count": 1,
   "id": "92af41c3",
   "metadata": {},
   "outputs": [
    {
     "data": {
      "text/plain": [
       "{'cache_folder': '/home/kuza/.lti/data/timeframe_data',\n",
       " 'sources_folder': '/home/kuza/.lti/data/sources',\n",
       " 'log_folder': '/home/kuza/.lti/logs',\n",
       " 'endpoints_required': True,\n",
       " 'max_empty_bars_fraction': 0.0,\n",
       " 'max_empty_bars_consecutive': 0,\n",
       " 'restore_empty_bars': True,\n",
       " 'print_log': True,\n",
       " 'log_level': 'INFO',\n",
       " 'request_timeout': 20,\n",
       " 'request_trys': 3}"
      ]
     },
     "execution_count": 1,
     "metadata": {},
     "output_type": "execute_result"
    }
   ],
   "source": [
    "import live_trading_indicators as lti\n",
    "lti.config()"
   ]
  },
  {
   "cell_type": "code",
   "execution_count": null,
   "id": "3bf3f7b5",
   "metadata": {},
   "outputs": [],
   "source": []
  }
 ],
 "metadata": {
  "kernelspec": {
   "display_name": "Python 3 (ipykernel)",
   "language": "python",
   "name": "python3"
  },
  "language_info": {
   "codemirror_mode": {
    "name": "ipython",
    "version": 3
   },
   "file_extension": ".py",
   "mimetype": "text/x-python",
   "name": "python",
   "nbconvert_exporter": "python",
   "pygments_lexer": "ipython3",
   "version": "3.10.6"
  }
 },
 "nbformat": 4,
 "nbformat_minor": 5
}
