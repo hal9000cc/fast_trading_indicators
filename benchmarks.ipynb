{
 "cells": [
  {
   "cell_type": "code",
   "execution_count": 6,
   "id": "e61b4e64",
   "metadata": {},
   "outputs": [
    {
     "name": "stdout",
     "output_type": "stream",
     "text": [
      "(OHLCV data) source: binance, symbol: ethusdt, timeframe: 1s\n",
      "date: 2021-01-01T00:00 - 2021-12-31T23:59 (length: 31536000) \n",
      "empty bars: count 0 (0.00 %), max consecutive 0\n",
      "Values: time, open, high, low, close, volume\n",
      "Load OHLCV: 5.25897852901835 seconds\n",
      "\n"
     ]
    }
   ],
   "source": [
    "# Performance test of the live_trading_indicators library on data with a size of 31.5 million quotes\n",
    "# Hardware:\n",
    "#    CPU Intel(R) Core(TM) i7-4790K CPU @ 4.00GHz\n",
    "#    HDD Samsung 850 EVO SATA 2.5\" SSD 250ГБ\n",
    "#    Memory DDR3-1600 32 GB\n",
    "\n",
    "import timeit\n",
    "import live_trading_indicators as lti\n",
    "\n",
    "symbol = 'ethusdt'\n",
    "timeframe = '1s'\n",
    "\n",
    "indicators = lti.Indicators('binance', '2021-01-01', '2021-12-31', max_empty_bars_fraction=0.02, max_empty_bars_consecutive=-1)\n",
    "\n",
    "test_globals = {'indicators': indicators, 'symbol': symbol, 'timeframe': timeframe}\n",
    "\n",
    "# To begin with, we will load the quotes into memory\n",
    "time = timeit.timeit('print(indicators.OHLCV(symbol, timeframe))', number=1, globals=test_globals)\n",
    "print(f'Load OHLCV: {time} seconds\\n')\n"
   ]
  },
  {
   "cell_type": "code",
   "execution_count": 3,
   "id": "f0e95e58",
   "metadata": {},
   "outputs": [
    {
     "name": "stderr",
     "output_type": "stream",
     "text": [
      "/home/kuza/.local/lib/python3.10/site-packages/live_trading_indicators/indicators_set/ADL.py:19: RuntimeWarning: divide by zero encountered in true_divide\n",
      "  clv = ((ohlcv.close - ohlcv.low) - (ohlcv.high - ohlcv.close)) / hl_range\n",
      "/home/kuza/.local/lib/python3.10/site-packages/live_trading_indicators/indicators_set/ADL.py:19: RuntimeWarning: overflow encountered in true_divide\n",
      "  clv = ((ohlcv.close - ohlcv.low) - (ohlcv.high - ohlcv.close)) / hl_range\n"
     ]
    },
    {
     "ename": "LTIException",
     "evalue": "Bad data value (inf)",
     "output_type": "error",
     "traceback": [
      "\u001b[0;31m---------------------------------------------------------------------------\u001b[0m",
      "\u001b[0;31mLTIException\u001b[0m                              Traceback (most recent call last)",
      "\u001b[0;32m/tmp/ipykernel_392910/4245252041.py\u001b[0m in \u001b[0;36m<module>\u001b[0;34m\u001b[0m\n\u001b[1;32m     20\u001b[0m \u001b[0;34m\u001b[0m\u001b[0m\n\u001b[1;32m     21\u001b[0m     \u001b[0mtest_globals\u001b[0m\u001b[0;34m[\u001b[0m\u001b[0;34m'indicator_name'\u001b[0m\u001b[0;34m]\u001b[0m \u001b[0;34m=\u001b[0m \u001b[0mindicator_name\u001b[0m\u001b[0;34m\u001b[0m\u001b[0;34m\u001b[0m\u001b[0m\n\u001b[0;32m---> 22\u001b[0;31m     time = timeit.timeit(\n\u001b[0m\u001b[1;32m     23\u001b[0m         \u001b[0;34m'indicator = indicators.get_indicator(indicator_name)\\n'\u001b[0m\u001b[0;34m\u001b[0m\u001b[0;34m\u001b[0m\u001b[0m\n\u001b[1;32m     24\u001b[0m         \u001b[0;34m'params = indicator_params.get(indicator_name, {})\\n'\u001b[0m\u001b[0;34m\u001b[0m\u001b[0;34m\u001b[0m\u001b[0m\n",
      "\u001b[0;32m/usr/lib/python3.10/timeit.py\u001b[0m in \u001b[0;36mtimeit\u001b[0;34m(stmt, setup, timer, number, globals)\u001b[0m\n\u001b[1;32m    232\u001b[0m            number=default_number, globals=None):\n\u001b[1;32m    233\u001b[0m     \u001b[0;34m\"\"\"Convenience function to create Timer object and call timeit method.\"\"\"\u001b[0m\u001b[0;34m\u001b[0m\u001b[0;34m\u001b[0m\u001b[0m\n\u001b[0;32m--> 234\u001b[0;31m     \u001b[0;32mreturn\u001b[0m \u001b[0mTimer\u001b[0m\u001b[0;34m(\u001b[0m\u001b[0mstmt\u001b[0m\u001b[0;34m,\u001b[0m \u001b[0msetup\u001b[0m\u001b[0;34m,\u001b[0m \u001b[0mtimer\u001b[0m\u001b[0;34m,\u001b[0m \u001b[0mglobals\u001b[0m\u001b[0;34m)\u001b[0m\u001b[0;34m.\u001b[0m\u001b[0mtimeit\u001b[0m\u001b[0;34m(\u001b[0m\u001b[0mnumber\u001b[0m\u001b[0;34m)\u001b[0m\u001b[0;34m\u001b[0m\u001b[0;34m\u001b[0m\u001b[0m\n\u001b[0m\u001b[1;32m    235\u001b[0m \u001b[0;34m\u001b[0m\u001b[0m\n\u001b[1;32m    236\u001b[0m def repeat(stmt=\"pass\", setup=\"pass\", timer=default_timer,\n",
      "\u001b[0;32m/usr/lib/python3.10/timeit.py\u001b[0m in \u001b[0;36mtimeit\u001b[0;34m(self, number)\u001b[0m\n\u001b[1;32m    176\u001b[0m         \u001b[0mgc\u001b[0m\u001b[0;34m.\u001b[0m\u001b[0mdisable\u001b[0m\u001b[0;34m(\u001b[0m\u001b[0;34m)\u001b[0m\u001b[0;34m\u001b[0m\u001b[0;34m\u001b[0m\u001b[0m\n\u001b[1;32m    177\u001b[0m         \u001b[0;32mtry\u001b[0m\u001b[0;34m:\u001b[0m\u001b[0;34m\u001b[0m\u001b[0;34m\u001b[0m\u001b[0m\n\u001b[0;32m--> 178\u001b[0;31m             \u001b[0mtiming\u001b[0m \u001b[0;34m=\u001b[0m \u001b[0mself\u001b[0m\u001b[0;34m.\u001b[0m\u001b[0minner\u001b[0m\u001b[0;34m(\u001b[0m\u001b[0mit\u001b[0m\u001b[0;34m,\u001b[0m \u001b[0mself\u001b[0m\u001b[0;34m.\u001b[0m\u001b[0mtimer\u001b[0m\u001b[0;34m)\u001b[0m\u001b[0;34m\u001b[0m\u001b[0;34m\u001b[0m\u001b[0m\n\u001b[0m\u001b[1;32m    179\u001b[0m         \u001b[0;32mfinally\u001b[0m\u001b[0;34m:\u001b[0m\u001b[0;34m\u001b[0m\u001b[0;34m\u001b[0m\u001b[0m\n\u001b[1;32m    180\u001b[0m             \u001b[0;32mif\u001b[0m \u001b[0mgcold\u001b[0m\u001b[0;34m:\u001b[0m\u001b[0;34m\u001b[0m\u001b[0;34m\u001b[0m\u001b[0m\n",
      "\u001b[0;32m<timeit-src>\u001b[0m in \u001b[0;36minner\u001b[0;34m(_it, _timer)\u001b[0m\n",
      "\u001b[0;32m~/.local/lib/python3.10/site-packages/live_trading_indicators/indicators_set/__init__.py\u001b[0m in \u001b[0;36m__call__\u001b[0;34m(self, symbols, timeframe, time_begin, time_end, **kwargs)\u001b[0m\n\u001b[1;32m    437\u001b[0m             \u001b[0;32mraise\u001b[0m \u001b[0mLTIExceptionTimeBeginLaterTimeEnd\u001b[0m\u001b[0;34m(\u001b[0m\u001b[0muse_time_begin\u001b[0m\u001b[0;34m,\u001b[0m \u001b[0muse_time_end\u001b[0m\u001b[0;34m)\u001b[0m\u001b[0;34m\u001b[0m\u001b[0;34m\u001b[0m\u001b[0m\n\u001b[1;32m    438\u001b[0m \u001b[0;34m\u001b[0m\u001b[0m\n\u001b[0;32m--> 439\u001b[0;31m         return self.indicators.get_indicator_out(self.indicator_name, self.indicator_module, symbols, use_timeframe,\n\u001b[0m\u001b[1;32m    440\u001b[0m                                                  kwargs, use_time_begin, use_time_end)\n\u001b[1;32m    441\u001b[0m \u001b[0;34m\u001b[0m\u001b[0m\n",
      "\u001b[0;32m~/.local/lib/python3.10/site-packages/live_trading_indicators/indicators_set/__init__.py\u001b[0m in \u001b[0;36mget_indicator_out\u001b[0;34m(self, indicator_name, indicator_module, symbols, timeframe, indicator_kwargs, time_begin, time_end)\u001b[0m\n\u001b[1;32m    291\u001b[0m \u001b[0;34m\u001b[0m\u001b[0m\n\u001b[1;32m    292\u001b[0m         \u001b[0;32mif\u001b[0m \u001b[0mno_cached\u001b[0m\u001b[0;34m:\u001b[0m\u001b[0;34m\u001b[0m\u001b[0;34m\u001b[0m\u001b[0m\n\u001b[0;32m--> 293\u001b[0;31m             out = indicator_module.get_indicator_out(self, symbols, timeframe, use_time_begin, use_time_end,\n\u001b[0m\u001b[1;32m    294\u001b[0m                                                      **indicator_kwargs)\n\u001b[1;32m    295\u001b[0m         \u001b[0;32melse\u001b[0m\u001b[0;34m:\u001b[0m\u001b[0;34m\u001b[0m\u001b[0;34m\u001b[0m\u001b[0m\n",
      "\u001b[0;32m~/.local/lib/python3.10/site-packages/live_trading_indicators/indicators_set/ADL.py\u001b[0m in \u001b[0;36mget_indicator_out\u001b[0;34m(indicators, symbol, timeframe, time_begin, time_end, ma_period, ma_type)\u001b[0m\n\u001b[1;32m     37\u001b[0m         \u001b[0mresult_data\u001b[0m\u001b[0;34m.\u001b[0m\u001b[0mupdate\u001b[0m\u001b[0;34m(\u001b[0m\u001b[0;34m{\u001b[0m\u001b[0;34m'adl_smooth'\u001b[0m\u001b[0;34m:\u001b[0m \u001b[0mma_calculate\u001b[0m\u001b[0;34m(\u001b[0m\u001b[0madl\u001b[0m\u001b[0;34m,\u001b[0m \u001b[0mma_period\u001b[0m\u001b[0;34m,\u001b[0m \u001b[0mMA_Type\u001b[0m\u001b[0;34m.\u001b[0m\u001b[0mcast\u001b[0m\u001b[0;34m(\u001b[0m\u001b[0mma_type\u001b[0m\u001b[0;34m)\u001b[0m\u001b[0;34m)\u001b[0m\u001b[0;34m}\u001b[0m\u001b[0;34m)\u001b[0m\u001b[0;34m\u001b[0m\u001b[0;34m\u001b[0m\u001b[0m\n\u001b[1;32m     38\u001b[0m \u001b[0;34m\u001b[0m\u001b[0m\n\u001b[0;32m---> 39\u001b[0;31m     \u001b[0;32mreturn\u001b[0m \u001b[0mIndicatorData\u001b[0m\u001b[0;34m(\u001b[0m\u001b[0mresult_data\u001b[0m\u001b[0;34m)\u001b[0m\u001b[0;34m\u001b[0m\u001b[0;34m\u001b[0m\u001b[0m\n\u001b[0m",
      "\u001b[0;32m~/.local/lib/python3.10/site-packages/live_trading_indicators/indicator_data.py\u001b[0m in \u001b[0;36m__init__\u001b[0;34m(self, data_dict)\u001b[0m\n\u001b[1;32m    567\u001b[0m         \u001b[0msuper\u001b[0m\u001b[0;34m(\u001b[0m\u001b[0;34m)\u001b[0m\u001b[0;34m.\u001b[0m\u001b[0m__init__\u001b[0m\u001b[0;34m(\u001b[0m\u001b[0mdata_dict\u001b[0m\u001b[0;34m)\u001b[0m\u001b[0;34m\u001b[0m\u001b[0;34m\u001b[0m\u001b[0m\n\u001b[1;32m    568\u001b[0m \u001b[0;34m\u001b[0m\u001b[0m\n\u001b[0;32m--> 569\u001b[0;31m         \u001b[0mself\u001b[0m\u001b[0;34m.\u001b[0m\u001b[0mcheck_series\u001b[0m\u001b[0;34m(\u001b[0m\u001b[0mself\u001b[0m\u001b[0;34m.\u001b[0m\u001b[0mallowed_nan\u001b[0m\u001b[0;34m)\u001b[0m\u001b[0;34m\u001b[0m\u001b[0;34m\u001b[0m\u001b[0m\n\u001b[0m\u001b[1;32m    570\u001b[0m \u001b[0;34m\u001b[0m\u001b[0m\n\u001b[1;32m    571\u001b[0m     \u001b[0;34m@\u001b[0m\u001b[0mstaticmethod\u001b[0m\u001b[0;34m\u001b[0m\u001b[0;34m\u001b[0m\u001b[0m\n",
      "\u001b[0;32m~/.local/lib/python3.10/site-packages/live_trading_indicators/indicator_data.py\u001b[0m in \u001b[0;36mcheck_series\u001b[0;34m(self, allowed_nan)\u001b[0m\n\u001b[1;32m    128\u001b[0m                     \u001b[0;32mraise\u001b[0m \u001b[0mLTIException\u001b[0m\u001b[0;34m(\u001b[0m\u001b[0;34m'Bad data value (nan)'\u001b[0m\u001b[0;34m)\u001b[0m\u001b[0;34m\u001b[0m\u001b[0;34m\u001b[0m\u001b[0m\n\u001b[1;32m    129\u001b[0m                 \u001b[0;32mif\u001b[0m \u001b[0mnp\u001b[0m\u001b[0;34m.\u001b[0m\u001b[0misinf\u001b[0m\u001b[0;34m(\u001b[0m\u001b[0mvalue\u001b[0m\u001b[0;34m)\u001b[0m\u001b[0;34m.\u001b[0m\u001b[0many\u001b[0m\u001b[0;34m(\u001b[0m\u001b[0;34m)\u001b[0m\u001b[0;34m:\u001b[0m\u001b[0;34m\u001b[0m\u001b[0;34m\u001b[0m\u001b[0m\n\u001b[0;32m--> 130\u001b[0;31m                     \u001b[0;32mraise\u001b[0m \u001b[0mLTIException\u001b[0m\u001b[0;34m(\u001b[0m\u001b[0;34m'Bad data value (inf)'\u001b[0m\u001b[0;34m)\u001b[0m\u001b[0;34m\u001b[0m\u001b[0;34m\u001b[0m\u001b[0m\n\u001b[0m\u001b[1;32m    131\u001b[0m \u001b[0;34m\u001b[0m\u001b[0m\n\u001b[1;32m    132\u001b[0m     \u001b[0;32mdef\u001b[0m \u001b[0mcopy\u001b[0m\u001b[0;34m(\u001b[0m\u001b[0mself\u001b[0m\u001b[0;34m)\u001b[0m\u001b[0;34m:\u001b[0m\u001b[0;34m\u001b[0m\u001b[0;34m\u001b[0m\u001b[0m\n",
      "\u001b[0;31mLTIException\u001b[0m: Bad data value (inf)"
     ]
    }
   ],
   "source": [
    "# Then we calculate the indicators\n",
    "\n",
    "indicator_params = {\n",
    "    'CCI': {'period': 14},\n",
    "    'EMA': {'period': 14},\n",
    "    'MA': {'period': 21},\n",
    "    'SMA': {'period': 14},\n",
    "    'MACD': {'period_short': 12, 'period_long': 26, 'period_signal': 9},\n",
    "    'RSI': {'period': 14},\n",
    "    'TEMA': {'period': 21},\n",
    "    'TRIX': {'period': 13},\n",
    "    'VWMA': {'period': 14}\n",
    "}\n",
    "\n",
    "test_globals['indicator_params'] = indicator_params\n",
    "\n",
    "for indicator_name in lti.indicators_list():\n",
    "    if indicator_name in ('VolumeClusters', 'OHLCVM'):\n",
    "        continue\n",
    "\n",
    "    test_globals['indicator_name'] = indicator_name\n",
    "    time = timeit.timeit(\n",
    "        'indicator = indicators.get_indicator(indicator_name)\\n'\n",
    "        'params = indicator_params.get(indicator_name, {})\\n'\n",
    "        'print(indicator(symbol, timeframe, **params))',\n",
    "                         number=1, globals=test_globals)\n",
    "    print(f'{indicator_name}: {time} seconds\\n')\n"
   ]
  },
  {
   "cell_type": "code",
   "execution_count": null,
   "id": "028499f7",
   "metadata": {},
   "outputs": [],
   "source": []
  }
 ],
 "metadata": {
  "kernelspec": {
   "display_name": "Python 3 (ipykernel)",
   "language": "python",
   "name": "python3"
  },
  "language_info": {
   "codemirror_mode": {
    "name": "ipython",
    "version": 3
   },
   "file_extension": ".py",
   "mimetype": "text/x-python",
   "name": "python",
   "nbconvert_exporter": "python",
   "pygments_lexer": "ipython3",
   "version": "3.10.6"
  }
 },
 "nbformat": 4,
 "nbformat_minor": 5
}
