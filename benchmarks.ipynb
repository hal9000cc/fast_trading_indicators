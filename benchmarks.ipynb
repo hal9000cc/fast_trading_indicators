{
 "cells": [
  {
   "cell_type": "code",
   "execution_count": 16,
   "id": "e61b4e64",
   "metadata": {},
   "outputs": [
    {
     "name": "stdout",
     "output_type": "stream",
     "text": [
      "(OHLCV data) source: binance, symbol: ethusdt, timeframe: 1s\n",
      "date: 2021-01-01T00:00 - 2021-12-31T23:59 (length: 31536000) \n",
      "empty bars: count 443925 (1.41 %), max consecutive 79200\n",
      "Values: time, open, high, low, close, volume\n",
      "Load OHLCV: 1.8143342700786889 seconds\n",
      "\n",
      "0.7.2.2\n"
     ]
    }
   ],
   "source": [
    "# Performance test of the live_trading_indicators library on data with a size of 31.5 million quotes\n",
    "# Hardware:\n",
    "#    CPU Intel(R) Core(TM) i7-4790K CPU @ 4.00GHz\n",
    "#    HDD Samsung 850 EVO SATA 2.5\" SSD 250ГБ\n",
    "#    Memory DDR3-1600 32 GB\n",
    "\n",
    "import timeit\n",
    "import live_trading_indicators as lti\n",
    "\n",
    "symbol = 'ethusdt'\n",
    "timeframe = '1s'\n",
    "\n",
    "indicators = lti.Indicators('binance', '2021-01-01', '2021-12-31', max_empty_bars_fraction=0.02, max_empty_bars_consecutive=-1)\n",
    "\n",
    "test_globals = {'indicators': indicators, 'symbol': symbol, 'timeframe': timeframe}\n",
    "\n",
    "# To begin with, we will load the quotes into memory\n",
    "time = timeit.timeit('print(indicators.OHLCV(symbol, timeframe))', number=1, globals=test_globals)\n",
    "print(f'Load OHLCV: {time} seconds\\n')\n",
    "print(lti.__version__)\n"
   ]
  },
  {
   "cell_type": "code",
   "execution_count": 5,
   "id": "f0e95e58",
   "metadata": {},
   "outputs": [
    {
     "name": "stdout",
     "output_type": "stream",
     "text": [
      "(IndicatorData) source: binance, name: ADL, symbol: ethusdt, timeframe: 1h, allowed nan\n",
      "date: 2021-01-01T00:00 - 2021-12-31T23:00 (length: 8760) \n",
      "Values: time, adl\n",
      "ADL: 0.1471395641565323 seconds\n",
      "\n",
      "(IndicatorData) source: binance, name: ADX, symbol: ethusdt, timeframe: 1h, allowed nan\n",
      "date: 2021-01-01T00:00 - 2021-12-31T23:00 (length: 8760) \n",
      "Values: time, adx, p_di, m_di\n",
      "ADX: 0.10402210103347898 seconds\n",
      "\n",
      "(IndicatorData) source: binance, name: ATR, symbol: ethusdt, timeframe: 1h, allowed nan\n",
      "date: 2021-01-01T00:00 - 2021-12-31T23:00 (length: 8760) \n",
      "Values: time, tr, atr, atrp\n",
      "ATR: 0.0006822061259299517 seconds\n",
      "\n",
      "(IndicatorData) source: binance, name: Aroon, symbol: ethusdt, timeframe: 1h, allowed nan\n",
      "date: 2021-01-01T00:00 - 2021-12-31T23:00 (length: 8760) \n",
      "Values: time, up, down, oscillator\n",
      "Aroon: 0.004813065053895116 seconds\n",
      "\n",
      "(IndicatorData) source: binance, name: awesome, symbol: ethusdt, timeframe: 1h, allowed nan\n",
      "date: 2021-01-01T00:00 - 2021-12-31T23:00 (length: 8760) \n",
      "Values: time, awesome\n",
      "Awesome: 0.0007686519529670477 seconds\n",
      "\n",
      "(IndicatorData) source: binance, name: BollingerBands, symbol: ethusdt, timeframe: 1h, allowed nan\n",
      "date: 2021-01-01T00:00 - 2021-12-31T23:00 (length: 8760) \n",
      "Values: time, mid_line, up_line, down_line, z_score\n",
      "BollingerBands: 0.00447220797650516 seconds\n",
      "\n",
      "(IndicatorData) source: binance, name: CCI, symbol: ethusdt, timeframe: 1h, allowed nan\n",
      "date: 2021-01-01T00:00 - 2021-12-31T23:00 (length: 8760) \n",
      "Values: time, cci\n",
      "CCI: 0.0047911040019243956 seconds\n",
      "\n",
      "(IndicatorData) source: binance, name: EMA, symbol: ethusdt, timeframe: 1h, allowed nan\n",
      "date: 2021-01-01T00:00 - 2021-12-31T23:00 (length: 8760) \n",
      "Values: time, ema\n",
      "EMA: 0.0004928018897771835 seconds\n",
      "\n"
     ]
    },
    {
     "ename": "SyntaxError",
     "evalue": "invalid syntax (Ichimoku.py, line 17)",
     "output_type": "error",
     "traceback": [
      "Traceback \u001b[0;36m(most recent call last)\u001b[0m:\n",
      "  File \u001b[1;32m\"/usr/lib/python3/dist-packages/IPython/core/interactiveshell.py\"\u001b[0m, line \u001b[1;32m3457\u001b[0m, in \u001b[1;35mrun_code\u001b[0m\n    exec(code_obj, self.user_global_ns, self.user_ns)\n",
      "  File \u001b[1;32m\"/tmp/ipykernel_597858/4245252041.py\"\u001b[0m, line \u001b[1;32m22\u001b[0m, in \u001b[1;35m<module>\u001b[0m\n    time = timeit.timeit(\n",
      "  File \u001b[1;32m\"/usr/lib/python3.10/timeit.py\"\u001b[0m, line \u001b[1;32m234\u001b[0m, in \u001b[1;35mtimeit\u001b[0m\n    return Timer(stmt, setup, timer, globals).timeit(number)\n",
      "  File \u001b[1;32m\"/usr/lib/python3.10/timeit.py\"\u001b[0m, line \u001b[1;32m178\u001b[0m, in \u001b[1;35mtimeit\u001b[0m\n    timing = self.inner(it, self.timer)\n",
      "  File \u001b[1;32m\"<timeit-src>\"\u001b[0m, line \u001b[1;32m6\u001b[0m, in \u001b[1;35minner\u001b[0m\n",
      "  File \u001b[1;32m\"/home/kuza/.local/lib/python3.10/site-packages/live_trading_indicators/indicators_set/__init__.py\"\u001b[0m, line \u001b[1;32m238\u001b[0m, in \u001b[1;35mget_indicator\u001b[0m\n    indicator_proxy = IndicatorProxyOnline(indicator_name, self)\n",
      "  File \u001b[1;32m\"/home/kuza/.local/lib/python3.10/site-packages/live_trading_indicators/indicators_set/__init__.py\"\u001b[0m, line \u001b[1;32m410\u001b[0m, in \u001b[1;35m__init__\u001b[0m\n    self.indicator_module = importlib.import_module(f'.{indicator_name}', __package__)\n",
      "  File \u001b[1;32m\"/usr/lib/python3.10/importlib/__init__.py\"\u001b[0m, line \u001b[1;32m126\u001b[0m, in \u001b[1;35mimport_module\u001b[0m\n    return _bootstrap._gcd_import(name[level:], package, level)\n",
      "  File \u001b[1;32m\"<frozen importlib._bootstrap>\"\u001b[0m, line \u001b[1;32m1050\u001b[0m, in \u001b[1;35m_gcd_import\u001b[0m\n",
      "  File \u001b[1;32m\"<frozen importlib._bootstrap>\"\u001b[0m, line \u001b[1;32m1027\u001b[0m, in \u001b[1;35m_find_and_load\u001b[0m\n",
      "  File \u001b[1;32m\"<frozen importlib._bootstrap>\"\u001b[0m, line \u001b[1;32m1006\u001b[0m, in \u001b[1;35m_find_and_load_unlocked\u001b[0m\n",
      "  File \u001b[1;32m\"<frozen importlib._bootstrap>\"\u001b[0m, line \u001b[1;32m688\u001b[0m, in \u001b[1;35m_load_unlocked\u001b[0m\n",
      "  File \u001b[1;32m\"<frozen importlib._bootstrap_external>\"\u001b[0m, line \u001b[1;32m879\u001b[0m, in \u001b[1;35mexec_module\u001b[0m\n",
      "  File \u001b[1;32m\"<frozen importlib._bootstrap_external>\"\u001b[0m, line \u001b[1;32m1017\u001b[0m, in \u001b[1;35mget_code\u001b[0m\n",
      "  File \u001b[1;32m\"<frozen importlib._bootstrap_external>\"\u001b[0m, line \u001b[1;32m947\u001b[0m, in \u001b[1;35msource_to_code\u001b[0m\n",
      "\u001b[0;36m  File \u001b[0;32m\"<frozen importlib._bootstrap>\"\u001b[0;36m, line \u001b[0;32m241\u001b[0;36m, in \u001b[0;35m_call_with_frames_removed\u001b[0;36m\u001b[0m\n",
      "\u001b[0;36m  File \u001b[0;32m\"/home/kuza/.local/lib/python3.10/site-packages/live_trading_indicators/indicators_set/Ichimoku.py\"\u001b[0;36m, line \u001b[0;32m17\u001b[0m\n\u001b[0;31m    'parameters': {?},\u001b[0m\n\u001b[0m                   ^\u001b[0m\n\u001b[0;31mSyntaxError\u001b[0m\u001b[0;31m:\u001b[0m invalid syntax\n"
     ]
    }
   ],
   "source": [
    "# Then we calculate the indicators\n",
    "\n",
    "indicator_params = {\n",
    "    'CCI': {'period': 14},\n",
    "    'EMA': {'period': 14},\n",
    "    'MA': {'period': 21},\n",
    "    'SMA': {'period': 14},\n",
    "    'MACD': {'period_short': 12, 'period_long': 26, 'period_signal': 9},\n",
    "    'RSI': {'period': 14},\n",
    "    'TEMA': {'period': 21},\n",
    "    'TRIX': {'period': 13},\n",
    "    'VWMA': {'period': 14}\n",
    "}\n",
    "\n",
    "test_globals['indicator_params'] = indicator_params\n",
    "\n",
    "for indicator_name in lti.indicators_list():\n",
    "    if indicator_name in ('VolumeClusters', 'OHLCVM'):\n",
    "        continue\n",
    "\n",
    "    test_globals['indicator_name'] = indicator_name\n",
    "    time = timeit.timeit(\n",
    "        'indicator = indicators.get_indicator(indicator_name)\\n'\n",
    "        'params = indicator_params.get(indicator_name, {})\\n'\n",
    "        'print(indicator(symbol, timeframe, **params))',\n",
    "                         number=1, globals=test_globals)\n",
    "    print(f'{indicator_name}: {time} seconds\\n')\n"
   ]
  },
  {
   "cell_type": "code",
   "execution_count": null,
   "id": "028499f7",
   "metadata": {},
   "outputs": [],
   "source": []
  },
  {
   "cell_type": "code",
   "execution_count": null,
   "id": "8faa35fd",
   "metadata": {},
   "outputs": [],
   "source": []
  }
 ],
 "metadata": {
  "kernelspec": {
   "display_name": "Python 3 (ipykernel)",
   "language": "python",
   "name": "python3"
  },
  "language_info": {
   "codemirror_mode": {
    "name": "ipython",
    "version": 3
   },
   "file_extension": ".py",
   "mimetype": "text/x-python",
   "name": "python",
   "nbconvert_exporter": "python",
   "pygments_lexer": "ipython3",
   "version": "3.10.6"
  }
 },
 "nbformat": 4,
 "nbformat_minor": 5
}
